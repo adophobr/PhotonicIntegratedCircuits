{
 "cells": [
  {
   "cell_type": "code",
   "execution_count": 1,
   "metadata": {},
   "outputs": [
    {
     "name": "stdout",
     "output_type": "stream",
     "text": [
      "Using MPI version 4.0, 1 processes\n"
     ]
    }
   ],
   "source": [
    "import meep as mp\n",
    "import numpy as np\n",
    "import matplotlib.pyplot as plt"
   ]
  },
  {
   "cell_type": "markdown",
   "metadata": {},
   "source": [
    "1. Definir a cécula computacional (região de simulação)\n",
    "2. Definir os materiais\n",
    "3. Definir a geometria\n",
    "4. Definir as fontes ópticas\n",
    "5. Definir as condições de contorno\n",
    "6. Definir os monitores de campo\n",
    "7. Criar os objetos de simulação"
   ]
  },
  {
   "cell_type": "markdown",
   "metadata": {},
   "source": [
    "### Parâmetros de simulação"
   ]
  },
  {
   "cell_type": "code",
   "execution_count": 2,
   "metadata": {},
   "outputs": [],
   "source": [
    "resolution = 10 # 10 um/pixels which corresponds to around 67 pixels/wavelength, or around 20 pixels/wavelength in the high-index material\n",
    "\n",
    "sx = 16  # size of cell in X direction\n",
    "sy = 8   # size of cell in Y direction\n",
    "\n",
    "pad = 4  # padding distance between waveguide and cell edge\n",
    "w   = 1  # width of waveguide\n",
    "\n",
    "dpml = 1.0\n",
    "\n",
    "wvg_xcen =  0.5*(sx-w-2*pad)  # x center of horiz. wvg\n",
    "wvg_ycen = -0.5*(sy-w-2*pad)  # y center of vert. wvg\n",
    "\n",
    "# 0.15 corresponds to a vacuum wavelength of about 1/0.15=6.67 μm or ~2 μm for Si\n",
    "# The current is located at (-7,0), which is 1 μm to the right of the left edge of the cell\n",
    "fcen = 0.15  # pulse center frequency\n",
    "df = 0.1     # pulse width (in frequency)\n",
    "nfreq = 100  # number of frequencies at which to compute flux"
   ]
  },
  {
   "cell_type": "markdown",
   "metadata": {},
   "source": [
    "### Definir a cécula computacional (região de simulação)"
   ]
  },
  {
   "cell_type": "code",
   "execution_count": 3,
   "metadata": {},
   "outputs": [],
   "source": [
    "cell = mp.Vector3(sx, sy, 0) # (x, y, z) size in um -> 16 um x 8 um (2D)"
   ]
  },
  {
   "cell_type": "markdown",
   "metadata": {},
   "source": [
    "### Definir os materiais"
   ]
  },
  {
   "cell_type": "code",
   "execution_count": 4,
   "metadata": {},
   "outputs": [],
   "source": [
    "from meep.materials import Si"
   ]
  },
  {
   "cell_type": "markdown",
   "metadata": {},
   "source": [
    "### Definir a geometria"
   ]
  },
  {
   "cell_type": "code",
   "execution_count": 5,
   "metadata": {},
   "outputs": [],
   "source": [
    "geometry = [mp.Block(size=mp.Vector3(mp.inf,w,mp.inf),\n",
    "                     center=mp.Vector3(0,wvg_ycen,0),\n",
    "                      material=mp.Medium(epsilon=12))]"
   ]
  },
  {
   "cell_type": "markdown",
   "metadata": {},
   "source": [
    "### Definir as fontes ópticas"
   ]
  },
  {
   "cell_type": "code",
   "execution_count": 6,
   "metadata": {},
   "outputs": [],
   "source": [
    "sources = [mp.Source(mp.ContinuousSource(fcen,fwidth=df),\n",
    "                     component=mp.Ez,\n",
    "                     center=mp.Vector3(-0.5*sx+dpml,wvg_ycen,0),\n",
    "                     size=mp.Vector3(0,w,0))]\n",
    "\n",
    "# 0.15 corresponds to a vacuum wavelength of about 1/0.15=6.67 μm or ~2 μm for Si\n",
    "# The current is located at (-7,0), which is 1 μm to the right of the left edge of the cell\n",
    "#sources = [mp.Source(mp.ContinuousSource(frequency=0.15),\n",
    "#                     component=mp.Ez,\n",
    "#                     center=mp.Vector3(-7,0))]"
   ]
  },
  {
   "cell_type": "markdown",
   "metadata": {},
   "source": [
    "### Definir as condições de contorno"
   ]
  },
  {
   "cell_type": "code",
   "execution_count": 7,
   "metadata": {},
   "outputs": [],
   "source": [
    "## To add an absorbing layer of thickness 1 μm around all sides of the cell\n",
    "pml_layers = [mp.PML(dpml)] ## PML layers on all axis\n",
    "# pml_layers = [mp.PML(thickness=dpml,direction=mp.X)] ## PML layers on x axis"
   ]
  },
  {
   "cell_type": "markdown",
   "metadata": {},
   "source": [
    "### Criar os objetos de simulação"
   ]
  },
  {
   "cell_type": "code",
   "execution_count": 8,
   "metadata": {},
   "outputs": [],
   "source": [
    "sim = mp.Simulation(cell_size=cell,\n",
    "                    boundary_layers=pml_layers,\n",
    "                    geometry=geometry,\n",
    "                    sources=sources,\n",
    "                    resolution=resolution)"
   ]
  },
  {
   "cell_type": "code",
   "execution_count": 9,
   "metadata": {},
   "outputs": [],
   "source": [
    "# reflected flux\n",
    "refl_fr = mp.FluxRegion(center=mp.Vector3(-0.5*sx+dpml+0.5,wvg_ycen,0), size=mp.Vector3(0,2*w,0))\n",
    "refl = sim.add_flux(fcen, df, nfreq, refl_fr)\n",
    "\n",
    "# transmitted flux\n",
    "tran_fr = mp.FluxRegion(center=mp.Vector3(0.5*sx-dpml,wvg_ycen,0), size=mp.Vector3(0,2*w,0))\n",
    "tran = sim.add_flux(fcen, df, nfreq, tran_fr)"
   ]
  },
  {
   "cell_type": "code",
   "execution_count": 87,
   "metadata": {},
   "outputs": [],
   "source": [
    "pt = mp.Vector3(0.5 * sx - dpml - 0.5, wvg_ycen)"
   ]
  },
  {
   "cell_type": "code",
   "execution_count": 88,
   "metadata": {},
   "outputs": [
    {
     "name": "stdout",
     "output_type": "stream",
     "text": [
      "     block, center = (0,0.5,0)\n",
      "          size (1e+20,1,1e+20)\n",
      "          axes (1,0,0), (0,1,0), (0,0,1)\n",
      "          dielectric constant epsilon diagonal = (12,12,12)\n"
     ]
    },
    {
     "data": {
      "image/png": "[encoded data removed]",
      "text/plain": [
       "<Figure size 600x400 with 1 Axes>"
      ]
     },
     "metadata": {
      "needs_background": "light"
     },
     "output_type": "display_data"
    }
   ],
   "source": [
    "f = plt.figure(dpi=100)\n",
    "sim.plot2D(ax=f.gca())\n",
    "plt.show()"
   ]
  },
  {
   "cell_type": "code",
   "execution_count": 89,
   "metadata": {},
   "outputs": [
    {
     "data": {
      "application/vnd.jupyter.widget-view+json": {
       "model_id": "feedc3859125494c9bd690d66899cadb",
       "version_major": 2,
       "version_minor": 0
      },
      "text/plain": [
       "FloatProgress(value=26781.44921875, description='0% done ', max=26981.44921875, min=26781.44921875)"
      ]
     },
     "metadata": {},
     "output_type": "display_data"
    },
    {
     "name": "stdout",
     "output_type": "stream",
     "text": [
      "on time step 535629 (time=26781.5), 0.829437 s/step\n",
      "run 1 finished at t = 26981.45 (539629 timesteps)\n"
     ]
    }
   ],
   "source": [
    "sim.run(until=200)"
   ]
  },
  {
   "cell_type": "code",
   "execution_count": 90,
   "metadata": {},
   "outputs": [],
   "source": [
    "# for normalization run, save flux fields data for reflection plane\n",
    "straight_refl_data = sim.get_flux_data(refl)\n",
    "\n",
    "# save incident power for transmission plane\n",
    "straight_tran_flux = mp.get_fluxes(tran)"
   ]
  },
  {
   "cell_type": "markdown",
   "metadata": {},
   "source": [
    "### Results"
   ]
  },
  {
   "cell_type": "code",
   "execution_count": 92,
   "metadata": {},
   "outputs": [
    {
     "name": "stdout",
     "output_type": "stream",
     "text": [
      "     block, center = (0,0.5,0)\n",
      "          size (1e+20,1,1e+20)\n",
      "          axes (1,0,0), (0,1,0), (0,0,1)\n",
      "          dielectric constant epsilon diagonal = (12,12,12)\n"
     ]
    },
    {
     "data": {
      "text/plain": [
       "<AxesSubplot:xlabel='X', ylabel='Y'>"
      ]
     },
     "execution_count": 92,
     "metadata": {},
     "output_type": "execute_result"
    },
    {
     "data": {
      "image/png": "[encoded data removed]",
      "text/plain": [
       "<Figure size 864x288 with 2 Axes>"
      ]
     },
     "metadata": {
      "needs_background": "light"
     },
     "output_type": "display_data"
    }
   ],
   "source": [
    "def field_func(x):\n",
    "    return np.real(x)\n",
    "field_parameters={\n",
    "    \"alpha\": 0.8,\n",
    "    \"cmap\": \"jet\",\n",
    "    \"interpolation\": \"none\",\n",
    "    \"post_process\": field_func,\n",
    "    \"colorbar\":True,\n",
    "}\n",
    "monitor_parameters={\n",
    "    \"offset\":30,\n",
    "    \"label_alpha\":0.5,\n",
    "    \"label_color\":'blue',\n",
    "}\n",
    "source_parameters={\n",
    "    \"offset\":-20,\n",
    "    \"label_alpha\":0.5,\n",
    "    \"label_color\":'red',\n",
    "}\n",
    "colorbar_parameters={\n",
    "    \"label\":'Field - Ez',\n",
    "    \"orientation\":'vertical',\n",
    "    \"extend\":'neither',\n",
    "    \"format\":None,\n",
    "    \"position\":'right',\n",
    "    \"size\":'5%',\n",
    "    \"pad\":'5%',\n",
    "}\n",
    "fig=plt.figure(figsize=(12,4))\n",
    "sim.plot2D(\n",
    "    output_plane=mp.Volume(center=mp.Vector3(0,0,0), size=mp.Vector3(16,16,0)),\n",
    "    labels='Teste',\n",
    "    monitor_parameters=monitor_parameters,\n",
    "    source_parameters=source_parameters,\n",
    "    fields=mp.Ez,\n",
    "    field_parameters=field_parameters,\n",
    "    colorbar_parameters=colorbar_parameters)"
   ]
  }
 ],
 "metadata": {
  "kernelspec": {
   "display_name": "Python 3.9.16",
   "language": "python",
   "name": "python3"
  },
  "language_info": {
   "codemirror_mode": {
    "name": "ipython",
    "version": 3
   },
   "file_extension": ".py",
   "mimetype": "text/x-python",
   "name": "python",
   "nbconvert_exporter": "python",
   "pygments_lexer": "ipython3",
   "version": "3.9.16"
  },
  "orig_nbformat": 4,
  "vscode": {
   "interpreter": {
    "hash": "c6ec71f727476f5c0adaee0edc26f700116a1de424bd77268122e8bd4f210291"
   }
  }
 },
 "nbformat": 4,
 "nbformat_minor": 2
}
