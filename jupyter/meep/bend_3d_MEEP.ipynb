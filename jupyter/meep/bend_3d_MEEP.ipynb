{
 "cells": [
  {
   "cell_type": "code",
   "execution_count": null,
   "metadata": {},
   "outputs": [],
   "source": [
    "# bend 3D example"
   ]
  }
 ],
 "metadata": {
  "kernelspec": {
   "display_name": "Python 3.9.16 ('base')",
   "language": "python",
   "name": "python3"
  },
  "language_info": {
   "name": "python",
   "version": "3.9.16"
  },
  "orig_nbformat": 4,
  "vscode": {
   "interpreter": {
    "hash": "c6ec71f727476f5c0adaee0edc26f700116a1de424bd77268122e8bd4f210291"
   }
  }
 },
 "nbformat": 4,
 "nbformat_minor": 2
}
